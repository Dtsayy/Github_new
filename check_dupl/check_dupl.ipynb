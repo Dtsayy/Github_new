{
 "cells": [
  {
   "cell_type": "code",
   "execution_count": 59,
   "metadata": {},
   "outputs": [],
   "source": [
    "# Tạo DataFrame mẫu\n",
    "data = {\n",
    "    'LargeGroup': ['A', 'A', 'B', 'B', 'C', 'C', 'A', 'A'],\n",
    "    'ValueColumn': ['apple', 'aple', 'banana', 'orange', 'grape', 'kiwi', 'yellow', 'apple2']\n",
    "}"
   ]
  },
  {
   "cell_type": "code",
   "execution_count": 3,
   "metadata": {},
   "outputs": [
    {
     "name": "stdout",
     "output_type": "stream",
     "text": [
      "Collecting numpy\n",
      "  Using cached numpy-1.24.4-cp38-cp38-win_amd64.whl (14.9 MB)\n",
      "Installing collected packages: numpy\n",
      "Successfully installed numpy-1.24.4\n",
      "Note: you may need to restart the kernel to use updated packages.\n"
     ]
    },
    {
     "name": "stderr",
     "output_type": "stream",
     "text": [
      "  WARNING: The script f2py.exe is installed in 'c:\\Users\\ADMIN\\AppData\\Local\\Programs\\Python\\Python38\\Scripts' which is not on PATH.\n",
      "  Consider adding this directory to PATH or, if you prefer to suppress this warning, use --no-warn-script-location.\n",
      "WARNING: You are using pip version 21.1.1; however, version 24.1.1 is available.\n",
      "You should consider upgrading via the 'c:\\Users\\ADMIN\\AppData\\Local\\Programs\\Python\\Python38\\python.exe -m pip install --upgrade pip' command.\n"
     ]
    }
   ],
   "source": [
    "pip install numpy"
   ]
  },
  {
   "cell_type": "code",
   "execution_count": 5,
   "metadata": {},
   "outputs": [
    {
     "name": "stdout",
     "output_type": "stream",
     "text": [
      "Collecting pandas\n",
      "  Downloading pandas-2.0.3-cp38-cp38-win_amd64.whl (10.8 MB)\n",
      "Requirement already satisfied: numpy>=1.20.3 in c:\\users\\admin\\appdata\\local\\programs\\python\\python38\\lib\\site-packages (from pandas) (1.24.4)\n",
      "Collecting tzdata>=2022.1\n",
      "  Downloading tzdata-2024.1-py2.py3-none-any.whl (345 kB)\n",
      "Collecting pytz>=2020.1\n",
      "  Downloading pytz-2024.1-py2.py3-none-any.whl (505 kB)\n",
      "Requirement already satisfied: python-dateutil>=2.8.2 in c:\\users\\admin\\appdata\\roaming\\python\\python38\\site-packages (from pandas) (2.9.0.post0)\n",
      "Requirement already satisfied: six>=1.5 in c:\\users\\admin\\appdata\\roaming\\python\\python38\\site-packages (from python-dateutil>=2.8.2->pandas) (1.16.0)\n",
      "Installing collected packages: tzdata, pytz, pandas\n",
      "Successfully installed pandas-2.0.3 pytz-2024.1 tzdata-2024.1\n",
      "Note: you may need to restart the kernel to use updated packages.\n"
     ]
    },
    {
     "name": "stderr",
     "output_type": "stream",
     "text": [
      "WARNING: You are using pip version 21.1.1; however, version 24.1.1 is available.\n",
      "You should consider upgrading via the 'c:\\Users\\ADMIN\\AppData\\Local\\Programs\\Python\\Python38\\python.exe -m pip install --upgrade pip' command.\n"
     ]
    }
   ],
   "source": [
    "pip install pandas"
   ]
  },
  {
   "cell_type": "code",
   "execution_count": 9,
   "metadata": {},
   "outputs": [
    {
     "name": "stdout",
     "output_type": "stream",
     "text": [
      "Collecting fuzzywuzzy\n",
      "  Using cached fuzzywuzzy-0.18.0-py2.py3-none-any.whl (18 kB)\n",
      "Installing collected packages: fuzzywuzzy\n",
      "Successfully installed fuzzywuzzy-0.18.0\n",
      "Note: you may need to restart the kernel to use updated packages.\n"
     ]
    },
    {
     "name": "stderr",
     "output_type": "stream",
     "text": [
      "WARNING: You are using pip version 21.1.1; however, version 24.1.1 is available.\n",
      "You should consider upgrading via the 'c:\\Users\\ADMIN\\AppData\\Local\\Programs\\Python\\Python38\\python.exe -m pip install --upgrade pip' command.\n"
     ]
    }
   ],
   "source": [
    "pip install fuzzywuzzy"
   ]
  },
  {
   "cell_type": "code",
   "execution_count": 10,
   "metadata": {},
   "outputs": [
    {
     "name": "stderr",
     "output_type": "stream",
     "text": [
      "c:\\Users\\ADMIN\\AppData\\Local\\Programs\\Python\\Python38\\lib\\site-packages\\fuzzywuzzy\\fuzz.py:11: UserWarning: Using slow pure-python SequenceMatcher. Install python-Levenshtein to remove this warning\n",
      "  warnings.warn('Using slow pure-python SequenceMatcher. Install python-Levenshtein to remove this warning')\n"
     ]
    }
   ],
   "source": [
    "import numpy as np\n",
    "import pandas as pd\n",
    "from fuzzywuzzy import fuzz"
   ]
  },
  {
   "cell_type": "code",
   "execution_count": 60,
   "metadata": {},
   "outputs": [],
   "source": [
    "df = pd.DataFrame(data)"
   ]
  },
  {
   "cell_type": "code",
   "execution_count": 33,
   "metadata": {},
   "outputs": [
    {
     "data": {
      "text/html": [
       "<div>\n",
       "<style scoped>\n",
       "    .dataframe tbody tr th:only-of-type {\n",
       "        vertical-align: middle;\n",
       "    }\n",
       "\n",
       "    .dataframe tbody tr th {\n",
       "        vertical-align: top;\n",
       "    }\n",
       "\n",
       "    .dataframe thead th {\n",
       "        text-align: right;\n",
       "    }\n",
       "</style>\n",
       "<table border=\"1\" class=\"dataframe\">\n",
       "  <thead>\n",
       "    <tr style=\"text-align: right;\">\n",
       "      <th></th>\n",
       "      <th>LargeGroup</th>\n",
       "      <th>ValueColumn</th>\n",
       "      <th>SmallGroupKey</th>\n",
       "    </tr>\n",
       "  </thead>\n",
       "  <tbody>\n",
       "    <tr>\n",
       "      <th>0</th>\n",
       "      <td>A</td>\n",
       "      <td>apple</td>\n",
       "      <td>SmallGroup_1</td>\n",
       "    </tr>\n",
       "    <tr>\n",
       "      <th>1</th>\n",
       "      <td>A</td>\n",
       "      <td>aple</td>\n",
       "      <td>SmallGroup_1</td>\n",
       "    </tr>\n",
       "    <tr>\n",
       "      <th>2</th>\n",
       "      <td>B</td>\n",
       "      <td>banana</td>\n",
       "      <td>SmallGroup_2</td>\n",
       "    </tr>\n",
       "    <tr>\n",
       "      <th>3</th>\n",
       "      <td>B</td>\n",
       "      <td>orange</td>\n",
       "      <td>SmallGroup_3</td>\n",
       "    </tr>\n",
       "    <tr>\n",
       "      <th>4</th>\n",
       "      <td>C</td>\n",
       "      <td>grape</td>\n",
       "      <td>SmallGroup_1</td>\n",
       "    </tr>\n",
       "    <tr>\n",
       "      <th>5</th>\n",
       "      <td>C</td>\n",
       "      <td>kiwi</td>\n",
       "      <td>SmallGroup_4</td>\n",
       "    </tr>\n",
       "  </tbody>\n",
       "</table>\n",
       "</div>"
      ],
      "text/plain": [
       "  LargeGroup ValueColumn SmallGroupKey\n",
       "0          A       apple  SmallGroup_1\n",
       "1          A        aple  SmallGroup_1\n",
       "2          B      banana  SmallGroup_2\n",
       "3          B      orange  SmallGroup_3\n",
       "4          C       grape  SmallGroup_1\n",
       "5          C        kiwi  SmallGroup_4"
      ]
     },
     "execution_count": 33,
     "metadata": {},
     "output_type": "execute_result"
    }
   ],
   "source": [
    "df"
   ]
  },
  {
   "cell_type": "code",
   "execution_count": 11,
   "metadata": {},
   "outputs": [],
   "source": [
    "def group_similar_values_within_large_groups(df, large_group_column, column_name, threshold=50):\n",
    "    small_groups = {}\n",
    "\n",
    "    for large_group, group_df in df.groupby(large_group_column):\n",
    "        # Lặp qua từng nhóm lớn\n",
    "        large_group_key = f\"{large_group}_SmallGroupKey\"\n",
    "        group_df[large_group_key] = \"\"\n",
    "\n",
    "        for index, row in group_df.iterrows():\n",
    "            added_to_small_group = False\n",
    "\n",
    "            for key, small_group in small_groups.items():\n",
    "                for small_group_index in small_group:\n",
    "                    similarity = fuzz.ratio(row[column_name], df.at[small_group_index, column_name])\n",
    "                    if similarity > threshold:\n",
    "                        df.at[index, large_group_key] = key\n",
    "                        small_groups[key].append(index)\n",
    "                        added_to_small_group = True\n",
    "                        break\n",
    "\n",
    "            if not added_to_small_group:\n",
    "                key = f\"SmallGroup_{len(small_groups) + 1}\"\n",
    "                df.at[index, large_group_key] = key\n",
    "                small_groups[key] = [index]\n",
    "\n",
    "    return df"
   ]
  },
  {
   "cell_type": "code",
   "execution_count": 12,
   "metadata": {},
   "outputs": [],
   "source": [
    "# Áp dụng hàm group_similar_values_within_large_groups\n",
    "df_result = group_similar_values_within_large_groups(df, large_group_column='LargeGroup', column_name='ValueColumn', threshold=50)\n"
   ]
  },
  {
   "cell_type": "code",
   "execution_count": 13,
   "metadata": {},
   "outputs": [
    {
     "data": {
      "text/html": [
       "<div>\n",
       "<style scoped>\n",
       "    .dataframe tbody tr th:only-of-type {\n",
       "        vertical-align: middle;\n",
       "    }\n",
       "\n",
       "    .dataframe tbody tr th {\n",
       "        vertical-align: top;\n",
       "    }\n",
       "\n",
       "    .dataframe thead th {\n",
       "        text-align: right;\n",
       "    }\n",
       "</style>\n",
       "<table border=\"1\" class=\"dataframe\">\n",
       "  <thead>\n",
       "    <tr style=\"text-align: right;\">\n",
       "      <th></th>\n",
       "      <th>LargeGroup</th>\n",
       "      <th>ValueColumn</th>\n",
       "      <th>A_SmallGroupKey</th>\n",
       "      <th>B_SmallGroupKey</th>\n",
       "      <th>C_SmallGroupKey</th>\n",
       "    </tr>\n",
       "  </thead>\n",
       "  <tbody>\n",
       "    <tr>\n",
       "      <th>0</th>\n",
       "      <td>A</td>\n",
       "      <td>apple</td>\n",
       "      <td>SmallGroup_1</td>\n",
       "      <td>NaN</td>\n",
       "      <td>NaN</td>\n",
       "    </tr>\n",
       "    <tr>\n",
       "      <th>1</th>\n",
       "      <td>A</td>\n",
       "      <td>aple</td>\n",
       "      <td>SmallGroup_1</td>\n",
       "      <td>NaN</td>\n",
       "      <td>NaN</td>\n",
       "    </tr>\n",
       "    <tr>\n",
       "      <th>2</th>\n",
       "      <td>B</td>\n",
       "      <td>banana</td>\n",
       "      <td>NaN</td>\n",
       "      <td>SmallGroup_2</td>\n",
       "      <td>NaN</td>\n",
       "    </tr>\n",
       "    <tr>\n",
       "      <th>3</th>\n",
       "      <td>B</td>\n",
       "      <td>orange</td>\n",
       "      <td>NaN</td>\n",
       "      <td>SmallGroup_3</td>\n",
       "      <td>NaN</td>\n",
       "    </tr>\n",
       "    <tr>\n",
       "      <th>4</th>\n",
       "      <td>C</td>\n",
       "      <td>grape</td>\n",
       "      <td>NaN</td>\n",
       "      <td>NaN</td>\n",
       "      <td>SmallGroup_3</td>\n",
       "    </tr>\n",
       "    <tr>\n",
       "      <th>5</th>\n",
       "      <td>C</td>\n",
       "      <td>kiwi</td>\n",
       "      <td>NaN</td>\n",
       "      <td>NaN</td>\n",
       "      <td>SmallGroup_4</td>\n",
       "    </tr>\n",
       "  </tbody>\n",
       "</table>\n",
       "</div>"
      ],
      "text/plain": [
       "  LargeGroup ValueColumn A_SmallGroupKey B_SmallGroupKey C_SmallGroupKey\n",
       "0          A       apple    SmallGroup_1             NaN             NaN\n",
       "1          A        aple    SmallGroup_1             NaN             NaN\n",
       "2          B      banana             NaN    SmallGroup_2             NaN\n",
       "3          B      orange             NaN    SmallGroup_3             NaN\n",
       "4          C       grape             NaN             NaN    SmallGroup_3\n",
       "5          C        kiwi             NaN             NaN    SmallGroup_4"
      ]
     },
     "execution_count": 13,
     "metadata": {},
     "output_type": "execute_result"
    }
   ],
   "source": [
    "df_result"
   ]
  },
  {
   "cell_type": "code",
   "execution_count": 30,
   "metadata": {},
   "outputs": [],
   "source": [
    "def group_similar_values_within_large_groups_2(df, large_group_column, column_name, threshold=50):\n",
    "    small_groups = {}\n",
    "    large_group_key = f\"SmallGroupKey\"\n",
    "    df[large_group_key] = \"\"\n",
    "\n",
    "    for large_group, group_df in df.groupby(large_group_column):\n",
    "        # Lặp qua từng nhóm lớn\n",
    "        for index, row in group_df.iterrows():\n",
    "            added_to_small_group = False\n",
    "\n",
    "            for key, small_group in small_groups.items():\n",
    "                for small_group_index in small_group:\n",
    "                    similarity = fuzz.ratio(row[column_name], df.at[small_group_index, column_name])\n",
    "                    if similarity > threshold:\n",
    "                        df.at[index, large_group_key] = key\n",
    "                        small_groups[key].append(index)\n",
    "                        added_to_small_group = True\n",
    "                        break\n",
    "                if added_to_small_group:\n",
    "                    break\n",
    "\n",
    "            if not added_to_small_group:\n",
    "                key = f\"SmallGroup_{len(small_groups) + 1}\"\n",
    "                df.at[index, large_group_key] = key\n",
    "                small_groups[key] = [index]\n",
    "\n",
    "    return df"
   ]
  },
  {
   "cell_type": "code",
   "execution_count": 61,
   "metadata": {},
   "outputs": [],
   "source": [
    "# Áp dụng hàm group_similar_values_within_large_groups\n",
    "df_result_5 = group_similar_values_within_large_groups_5(df, large_group_column='LargeGroup', column_name='ValueColumn', threshold=50)\n"
   ]
  },
  {
   "cell_type": "code",
   "execution_count": 62,
   "metadata": {},
   "outputs": [
    {
     "data": {
      "text/html": [
       "<div>\n",
       "<style scoped>\n",
       "    .dataframe tbody tr th:only-of-type {\n",
       "        vertical-align: middle;\n",
       "    }\n",
       "\n",
       "    .dataframe tbody tr th {\n",
       "        vertical-align: top;\n",
       "    }\n",
       "\n",
       "    .dataframe thead th {\n",
       "        text-align: right;\n",
       "    }\n",
       "</style>\n",
       "<table border=\"1\" class=\"dataframe\">\n",
       "  <thead>\n",
       "    <tr style=\"text-align: right;\">\n",
       "      <th></th>\n",
       "      <th>LargeGroup</th>\n",
       "      <th>ValueColumn</th>\n",
       "      <th>SmallGroupKey</th>\n",
       "    </tr>\n",
       "  </thead>\n",
       "  <tbody>\n",
       "    <tr>\n",
       "      <th>0</th>\n",
       "      <td>A</td>\n",
       "      <td>apple</td>\n",
       "      <td>A_Group_1</td>\n",
       "    </tr>\n",
       "    <tr>\n",
       "      <th>1</th>\n",
       "      <td>A</td>\n",
       "      <td>aple</td>\n",
       "      <td>A_Group_1</td>\n",
       "    </tr>\n",
       "    <tr>\n",
       "      <th>2</th>\n",
       "      <td>A</td>\n",
       "      <td>apple2</td>\n",
       "      <td>A_Group_1</td>\n",
       "    </tr>\n",
       "    <tr>\n",
       "      <th>3</th>\n",
       "      <td>A</td>\n",
       "      <td>yellow</td>\n",
       "      <td>A_Group_2</td>\n",
       "    </tr>\n",
       "    <tr>\n",
       "      <th>4</th>\n",
       "      <td>B</td>\n",
       "      <td>banana</td>\n",
       "      <td>B_Group_1</td>\n",
       "    </tr>\n",
       "    <tr>\n",
       "      <th>5</th>\n",
       "      <td>B</td>\n",
       "      <td>orange</td>\n",
       "      <td>B_Group_2</td>\n",
       "    </tr>\n",
       "    <tr>\n",
       "      <th>6</th>\n",
       "      <td>C</td>\n",
       "      <td>grape</td>\n",
       "      <td>C_Group_1</td>\n",
       "    </tr>\n",
       "    <tr>\n",
       "      <th>7</th>\n",
       "      <td>C</td>\n",
       "      <td>kiwi</td>\n",
       "      <td>C_Group_2</td>\n",
       "    </tr>\n",
       "  </tbody>\n",
       "</table>\n",
       "</div>"
      ],
      "text/plain": [
       "  LargeGroup ValueColumn SmallGroupKey\n",
       "0          A       apple     A_Group_1\n",
       "1          A        aple     A_Group_1\n",
       "2          A      apple2     A_Group_1\n",
       "3          A      yellow     A_Group_2\n",
       "4          B      banana     B_Group_1\n",
       "5          B      orange     B_Group_2\n",
       "6          C       grape     C_Group_1\n",
       "7          C        kiwi     C_Group_2"
      ]
     },
     "execution_count": 62,
     "metadata": {},
     "output_type": "execute_result"
    }
   ],
   "source": [
    "df_result_5"
   ]
  },
  {
   "cell_type": "code",
   "execution_count": 36,
   "metadata": {},
   "outputs": [],
   "source": [
    "def group_similar_values_within_large_groups_3(df, large_group_column, column_name, threshold=50):\n",
    "    small_groups = {}\n",
    "    large_group_key = f\"SmallGroupKey\"\n",
    "    df[large_group_key] = \"\"\n",
    "\n",
    "    for large_group, group_df in df.groupby(large_group_column):\n",
    "        group_count = 1\n",
    "        for index, row in group_df.iterrows():\n",
    "            added_to_small_group = False\n",
    "\n",
    "            for key, small_group in small_groups.items():\n",
    "                for small_group_index in small_group:\n",
    "                    similarity = fuzz.ratio(row[column_name], df.at[small_group_index, column_name])\n",
    "                    if similarity > threshold:\n",
    "                        df.at[index, large_group_key] = key\n",
    "                        small_groups[key].append(index)\n",
    "                        added_to_small_group = True\n",
    "                        break\n",
    "                if added_to_small_group:\n",
    "                    break\n",
    "\n",
    "            if not added_to_small_group:\n",
    "                key = f\"{large_group}_Group_{group_count}\"\n",
    "                df.at[index, large_group_key] = key\n",
    "                small_groups[key] = [index]\n",
    "                group_count += 1\n",
    "\n",
    "    return df"
   ]
  },
  {
   "cell_type": "code",
   "execution_count": 39,
   "metadata": {},
   "outputs": [],
   "source": [
    "def group_similar_values_within_large_groups_4(df, large_group_column, column_name, threshold=50):\n",
    "    df['SmallGroupKey'] = \"\"\n",
    "\n",
    "    for large_group, group_df in df.groupby(large_group_column):\n",
    "        small_groups = {}\n",
    "        group_count = 1\n",
    "        \n",
    "        for index, row in group_df.iterrows():\n",
    "            added_to_small_group = False\n",
    "\n",
    "            for key, small_group in small_groups.items():\n",
    "                for small_group_index in small_group:\n",
    "                    similarity = fuzz.ratio(row[column_name], df.at[small_group_index, column_name])\n",
    "                    if similarity > threshold:\n",
    "                        df.at[index, 'SmallGroupKey'] = key\n",
    "                        small_groups[key].append(index)\n",
    "                        added_to_small_group = True\n",
    "                        break\n",
    "                if added_to_small_group:\n",
    "                    break\n",
    "\n",
    "            if not added_to_small_group:\n",
    "                key = f\"{large_group}_Group_{group_count}\"\n",
    "                df.at[index, 'SmallGroupKey'] = key\n",
    "                small_groups[key] = [index]\n",
    "                group_count += 1\n",
    "\n",
    "    return df"
   ]
  },
  {
   "cell_type": "code",
   "execution_count": 58,
   "metadata": {},
   "outputs": [],
   "source": [
    "def group_similar_values_within_large_groups_5(df, large_group_column, column_name, threshold=50):\n",
    "    df['SmallGroupKey'] = \"\"\n",
    "    \n",
    "    for large_group, group_df in df.groupby(large_group_column):\n",
    "        small_groups = {}\n",
    "        group_count = 1\n",
    "        \n",
    "        for index, row in group_df.iterrows():\n",
    "            added_to_small_group = False\n",
    "            row_value = row[column_name]\n",
    "            \n",
    "            for key, small_group in small_groups.items():\n",
    "                if any(fuzz.ratio(row_value, df.at[small_group_index, column_name]) > threshold for small_group_index in small_group):\n",
    "                    df.at[index, 'SmallGroupKey'] = key\n",
    "                    small_groups[key].append(index)\n",
    "                    added_to_small_group = True\n",
    "                    break\n",
    "\n",
    "            if not added_to_small_group:\n",
    "                key = f\"{large_group}_Group_{group_count}\"\n",
    "                df.at[index, 'SmallGroupKey'] = key\n",
    "                small_groups[key] = [index]\n",
    "                group_count += 1\n",
    "    # Sắp xếp theo cột large_group_column\n",
    "    df = df.sort_values(['LargeGroup', 'SmallGroupKey']).reset_index(drop=True)\n",
    "    return df"
   ]
  },
  {
   "cell_type": "code",
   "execution_count": null,
   "metadata": {},
   "outputs": [],
   "source": []
  }
 ],
 "metadata": {
  "kernelspec": {
   "display_name": "Python 3",
   "language": "python",
   "name": "python3"
  },
  "language_info": {
   "codemirror_mode": {
    "name": "ipython",
    "version": 3
   },
   "file_extension": ".py",
   "mimetype": "text/x-python",
   "name": "python",
   "nbconvert_exporter": "python",
   "pygments_lexer": "ipython3",
   "version": "3.8.10"
  }
 },
 "nbformat": 4,
 "nbformat_minor": 2
}
